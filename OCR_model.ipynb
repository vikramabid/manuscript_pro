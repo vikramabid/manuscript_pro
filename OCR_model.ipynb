{
 "cells": [
  {
   "cell_type": "code",
   "execution_count": 1,
   "id": "3ae17148",
   "metadata": {},
   "outputs": [
    {
     "name": "stdout",
     "output_type": "stream",
     "text": [
      "Requirement already satisfied: pytesseract in c:\\users\\hp\\anaconda3\\lib\\site-packages (0.3.10)\n",
      "Requirement already satisfied: Pillow in c:\\users\\hp\\anaconda3\\lib\\site-packages (9.4.0)\n",
      "Requirement already satisfied: packaging>=21.3 in c:\\users\\hp\\anaconda3\\lib\\site-packages (from pytesseract) (23.0)\n",
      "Note: you may need to restart the kernel to use updated packages.\n"
     ]
    }
   ],
   "source": [
    "pip install pytesseract Pillow\n"
   ]
  },
  {
   "cell_type": "code",
   "execution_count": 2,
   "id": "9dd7b860",
   "metadata": {},
   "outputs": [
    {
     "name": "stdout",
     "output_type": "stream",
     "text": [
      "Requirement already satisfied: pytesseract in c:\\users\\hp\\anaconda3\\lib\\site-packages (0.3.10)\n",
      "Requirement already satisfied: Tesseract in c:\\users\\hp\\anaconda3\\lib\\site-packages (0.1.3)\n",
      "Requirement already satisfied: packaging>=21.3 in c:\\users\\hp\\anaconda3\\lib\\site-packages (from pytesseract) (23.0)\n",
      "Requirement already satisfied: Pillow>=8.0.0 in c:\\users\\hp\\anaconda3\\lib\\site-packages (from pytesseract) (9.4.0)\n",
      "Note: you may need to restart the kernel to use updated packages.\n"
     ]
    }
   ],
   "source": [
    "pip install pytesseract Tesseract"
   ]
  },
  {
   "cell_type": "code",
   "execution_count": 3,
   "id": "be01eaea",
   "metadata": {},
   "outputs": [],
   "source": [
    "# Import the necessary libraries\n",
    "from PIL import Image\n",
    "import pytesseract"
   ]
  },
  {
   "cell_type": "code",
   "execution_count": 4,
   "id": "cb547f00",
   "metadata": {},
   "outputs": [],
   "source": [
    "# Path to the Tesseract executable (update this if your Tesseract installation is in a different location)\n",
    "pytesseract.pytesseract.tesseract_cmd = r'C:\\Program Files\\Tesseract-OCR\\tesseract.exe'"
   ]
  },
  {
   "cell_type": "code",
   "execution_count": 9,
   "id": "055ea0e6",
   "metadata": {},
   "outputs": [],
   "source": [
    "# Path to the image file you want to perform OCR on\n",
    "image_path =  r'D:\\SEM 1 Mtech\\ML_Project\\im.png'  \n",
    "\n",
    "# Specify the language code ('hin' for Devanagari languages, 'urd' for Urdu)\n",
    "language = 'hin'  # Use 'urd' for Urdu\n",
    "\n",
    "# Open the image using PIL (Python Imaging Library)\n",
    "image = Image.open(image_path)\n",
    "\n",
    "# Use Tesseract to do OCR on the image with specified language\n",
    "extracted_text = pytesseract.image_to_string(image, lang=language)\n"
   ]
  },
  {
   "cell_type": "code",
   "execution_count": 10,
   "id": "0a3684c1",
   "metadata": {},
   "outputs": [
    {
     "name": "stdout",
     "output_type": "stream",
     "text": [
      "Extracted Text:\n",
      "॥रा० वाष\n",
      "- शा\n",
      "\n",
      "ह श्ररीरामचेदायनमा 3 वेटवेद्येुपरेचुसिजातिट शरथात्मजा वेदःघायेतसादास) ्‌\n",
      "णात्मना॥ शारामेरामानुजसी तोनरतेभर ताजुज्ञा।सुग्रीवंवा युसूलुच्रणमानियुनःचुनशगकूजेतेरामरामिति\n",
      "थुरमधुराष्तरं। जारुत्युकविताशरवा वंटेवाल्मीफिकाकिलशलाल्मीकेजुनिसिंहस्यपकवितावनचारिणया\n",
      "रामकथानादकोनयातिपरोगतिं॥ था यःपिवन्सततंरान चरिताग्रतसागर[|अत्दन्स्तूसुनिवंदेचाचितस मेक\n",
      "\n",
      "शोकनाशने॥कपीशम सहूतारवेदेखकान करो जा उस्लेघ्यूसियोःसलिलेसलीलेय-:जाक वृद्धि जनकात्मजा\n",
      "का मवरदाइलकानमानिननानलिरजनसी सनतोलवेगासततेल्यवगजितिरि\n",
      "\n",
      "नायायसीतायाःवतयेनमशरनजिलनगवतातेनह्रिणालाक 'धारिणा॥ अनेनपविश्युसूपेणनिगुणिन गुर\n",
      "॥रण। डतपःस्वा ध्यायनिरतेतपस्वीवाग्विदोवर॥नारटपरिपघरूवास्ीकिलुनियुगव)॥ शा कान्वसिनसाघतला\n",
      "\n",
      "हर रतिजराशनशकीरुनरासबराभायणमहाबालास्तेवदेनिलात्ममा दधिननालि\n",
      "\n",
      "वान्दकश्वूवीयेवानघर्मज्ञथ्वरूतडत व्वसत्यवाक्ये।दडबतशग। चारिचेणच कायुक्त-संवेन्तेषुकाहितश वि.\n",
      "\n",
      "तात्मनेवानरयूथ मुरख श्वरीराम दूते मेनसास्मराभि॥ 'शाराजायरामनदायरामचेदायवे धुखे॥ रघुनाथा |\n",
      "\n",
      "। राम\n",
      "पा _ -\n",
      "\n"
     ]
    }
   ],
   "source": [
    "print(\"Extracted Text:\")\n",
    "print(extracted_text)\n"
   ]
  },
  {
   "cell_type": "code",
   "execution_count": null,
   "id": "d0bf811e",
   "metadata": {},
   "outputs": [],
   "source": []
  }
 ],
 "metadata": {
  "kernelspec": {
   "display_name": "Python 3 (ipykernel)",
   "language": "python",
   "name": "python3"
  },
  "language_info": {
   "codemirror_mode": {
    "name": "ipython",
    "version": 3
   },
   "file_extension": ".py",
   "mimetype": "text/x-python",
   "name": "python",
   "nbconvert_exporter": "python",
   "pygments_lexer": "ipython3",
   "version": "3.11.4"
  }
 },
 "nbformat": 4,
 "nbformat_minor": 5
}
