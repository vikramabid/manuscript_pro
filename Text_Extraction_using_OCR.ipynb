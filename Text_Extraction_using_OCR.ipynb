{
 "cells": [
  {
   "cell_type": "code",
   "execution_count": 5,
   "id": "c026ae58",
   "metadata": {},
   "outputs": [
    {
     "name": "stdout",
     "output_type": "stream",
     "text": [
      "Requirement already satisfied: pytesseract in c:\\users\\hp\\anaconda3\\lib\\site-packages (0.3.10)\n",
      "Requirement already satisfied: Pillow in c:\\users\\hp\\anaconda3\\lib\\site-packages (9.4.0)\n",
      "Requirement already satisfied: packaging>=21.3 in c:\\users\\hp\\anaconda3\\lib\\site-packages (from pytesseract) (23.0)\n",
      "Note: you may need to restart the kernel to use updated packages.\n"
     ]
    }
   ],
   "source": [
    "pip install pytesseract Pillow\n"
   ]
  },
  {
   "cell_type": "code",
   "execution_count": 6,
   "id": "9f751fb8",
   "metadata": {},
   "outputs": [
    {
     "name": "stdout",
     "output_type": "stream",
     "text": [
      "Requirement already satisfied: pytesseract in c:\\users\\hp\\anaconda3\\lib\\site-packages (0.3.10)\n",
      "Requirement already satisfied: Tesseract in c:\\users\\hp\\anaconda3\\lib\\site-packages (0.1.3)\n",
      "Requirement already satisfied: packaging>=21.3 in c:\\users\\hp\\anaconda3\\lib\\site-packages (from pytesseract) (23.0)\n",
      "Requirement already satisfied: Pillow>=8.0.0 in c:\\users\\hp\\anaconda3\\lib\\site-packages (from pytesseract) (9.4.0)\n",
      "Note: you may need to restart the kernel to use updated packages.\n"
     ]
    }
   ],
   "source": [
    "pip install pytesseract Tesseract"
   ]
  },
  {
   "cell_type": "code",
   "execution_count": 21,
   "id": "dd2e8da7",
   "metadata": {},
   "outputs": [],
   "source": [
    "# Import the necessary libraries\n",
    "from PIL import Image\n",
    "import pytesseract"
   ]
  },
  {
   "cell_type": "code",
   "execution_count": 22,
   "id": "bf244979",
   "metadata": {},
   "outputs": [],
   "source": [
    "# Path to the Tesseract executable (update this if your Tesseract installation is in a different location)\n",
    "pytesseract.pytesseract.tesseract_cmd = r'C:\\Program Files\\Tesseract-OCR\\tesseract.exe'"
   ]
  },
  {
   "cell_type": "code",
   "execution_count": 23,
   "id": "f0ddff7d",
   "metadata": {},
   "outputs": [],
   "source": [
    "# Path to the image file you want to perform OCR on\n",
    "image_path = '/kaggle/input/your_dataset_folder/img1.png'  \n",
    "\n",
    "# Specify the language code ('hin' for Devanagari languages, 'urd' for Urdu)\n",
    "language = 'hin'  # Use 'urd' for Urdu\n",
    "\n",
    "# Open the image using PIL (Python Imaging Library)\n",
    "image = Image.open(image_path)\n",
    "\n",
    "# Use Tesseract to do OCR on the image with specified language\n",
    "extracted_text = pytesseract.image_to_string(image, lang=language)\n"
   ]
  },
  {
   "cell_type": "code",
   "execution_count": 24,
   "id": "8688d2ad",
   "metadata": {},
   "outputs": [
    {
     "name": "stdout",
     "output_type": "stream",
     "text": [
      "Extracted Text:\n",
      "\n"
     ]
    }
   ],
   "source": [
    "print(\"Extracted Text:\")\n",
    "print(extracted_text)\n"
   ]
  },
  {
   "cell_type": "code",
   "execution_count": 11,
   "id": "701990af",
   "metadata": {},
   "outputs": [],
   "source": [
    "from PIL import Image, ImageFilter , ImageEnhance\n",
    "\n",
    "# Open the image using PIL (Python Imaging Library)\n",
    "image_path = r'D:\\SEM 1 Mtech\\ML_Project\\img1.png'\n",
    "image = Image.open(image_path)\n",
    "new_width = 800\n",
    "new_height = 600\n",
    "resized_image = image.resize((new_width, new_height))\n",
    "\n",
    "# Convert the image to grayscale\n",
    "gray_image = resized_image.convert('L')\n",
    "\n",
    "# # Apply adaptive thresholding\n",
    "# binary_image = gray_image.filter(ImageFilter.FIND_EDGES).convert('1')\n",
    "# Apply Gaussian blur for noise reduction\n",
    "blurred_image = gray_image.filter(ImageFilter.GaussianBlur(radius=2))\n",
    "\n",
    "\n",
    "# Enhance contrast\n",
    "enhancer = ImageEnhance.Contrast(blurred_image)\n",
    "enhanced_image = enhancer.enhance(2.0) \n",
    "\n",
    "\n",
    "# Save or display the blurred image\n",
    "enhanced_image.save(r'D:\\SEM 1 Mtech\\ML_Project\\img-11.png')\n",
    "enhanced_image.show()\n"
   ]
  },
  {
   "cell_type": "code",
   "execution_count": 12,
   "id": "949837b5",
   "metadata": {},
   "outputs": [
    {
     "name": "stdout",
     "output_type": "stream",
     "text": [
      "Modified Text:\n",
      "@ @ @ @ @ सठकमणाय देय @ तस्ये @ ।  @ सटेन्द्रयमानिलेग्यो @ चन्द्राकंमसुदगेस्यः @\n",
      "Average Confidence: 32.61%\n"
     ]
    }
   ],
   "source": [
    "from PIL import Image\n",
    "import pytesseract\n",
    "\n",
    "# Path to the Tesseract executable (update this if your Tesseract installation is in a different location)\n",
    "pytesseract.pytesseract.tesseract_cmd = r'C:\\Program Files\\Tesseract-OCR\\tesseract.exe'\n",
    "\n",
    "# Path to the image file you want to perform OCR on\n",
    "image_path = r'D:\\SEM 1 Mtech\\ML_Project\\Capture1.PNG'\n",
    "\n",
    "# Specify the language code for Devanagari script (Hindi)\n",
    "language = 'hin'\n",
    "\n",
    "# Open the image using PIL (Python Imaging Library)\n",
    "image = Image.open(image_path)\n",
    "\n",
    "# Use Tesseract to get information about the words, including confidences\n",
    "word_info = pytesseract.image_to_data(image, lang=language, output_type=pytesseract.Output.DICT)\n",
    "\n",
    "# Extract recognized text and confidences\n",
    "recognized_text = \" \".join(word_info['text'][1:])  # Skip the first element, which is an empty string\n",
    "confidences = [float(conf) for conf in word_info['conf']]\n",
    "\n",
    "# Average confidence across all words\n",
    "confidence = sum(confidences) / len(confidences) if confidences else 0.0\n",
    "\n",
    "# Set a confidence threshold\n",
    "confidence_threshold = 30  # You can adjust this threshold as needed\n",
    "\n",
    "# Placeholder symbol for missing words\n",
    "placeholder_symbol = '@'\n",
    "\n",
    "# Replace words with low confidence with the placeholder symbol\n",
    "modified_text = \" \".join(word if conf >= confidence_threshold else placeholder_symbol for word, conf in zip(word_info['text'][1:], confidences))\n",
    "\n",
    "# Print the modified result\n",
    "print(\"Modified Text:\")\n",
    "print(modified_text)\n",
    "print(f\"Average Confidence: {confidence:.2f}%\")\n"
   ]
  },
  {
   "cell_type": "code",
   "execution_count": 13,
   "id": "a971ec9a",
   "metadata": {},
   "outputs": [
    {
     "name": "stdout",
     "output_type": "stream",
     "text": [
      "Modified Text:\n",
      "@ @ @ @ @ @ @ @ @ @ @ @ @ @ @ @ वंटेवाल्मीफिकाकिलशलाल्मीकेजुनिसिंहस्यपकवितावनचारिणया @ @ @ @ @  @ @ @ @ @ @ @ शेकनाशन।॥कपीशम @ @ @ @ @ @ @ @ रिषे @ @ @ मुरख @ @ मनसास्मरानि॥। @ @ @ @ @ @ @ @  @ @ @ @ @ @ ॥ राम) @ @ @ @ @ | ॥९॥\n",
      "Average Confidence: 21.29%\n"
     ]
    }
   ],
   "source": [
    "from PIL import Image\n",
    "import pytesseract\n",
    "\n",
    "# Path to the Tesseract executable (update this if your Tesseract installation is in a different location)\n",
    "pytesseract.pytesseract.tesseract_cmd = r'C:\\Program Files\\Tesseract-OCR\\tesseract.exe'\n",
    "\n",
    "# Path to the image file you want to perform OCR on\n",
    "image_path = r'D:\\SEM 1 Mtech\\ML_Project\\img_n.png'\n",
    "\n",
    "# Specify the language code for Devanagari script (Hindi)\n",
    "language = 'hin'\n",
    "\n",
    "# Open the image using PIL (Python Imaging Library)\n",
    "image = Image.open(image_path)\n",
    "\n",
    "# Set the page segmentation mode (psm)\n",
    "# Experiment with different values for psm to find the best setting for your image\n",
    "psm_value = 4  # Adjust this value as needed\n",
    "\n",
    "# Specify the custom configuration\n",
    "custom_config = f'--psm {psm_value}'\n",
    "\n",
    "# Use Tesseract to get information about the words, including confidences\n",
    "word_info = pytesseract.image_to_data(image, lang=language, config=custom_config, output_type=pytesseract.Output.DICT)\n",
    "\n",
    "# Extract recognized text and confidences\n",
    "recognized_text = \" \".join(word_info['text'][1:])  # Skip the first element, which is an empty string\n",
    "confidences = [float(conf) for conf in word_info['conf']]\n",
    "\n",
    "# Average confidence across all words\n",
    "confidence = sum(confidences) / len(confidences) if confidences else 0.0\n",
    "\n",
    "# Set a confidence threshold\n",
    "confidence_threshold = 50  # You can adjust this threshold as needed\n",
    "\n",
    "# Placeholder symbol for missing words\n",
    "placeholder_symbol = '@'\n",
    "\n",
    "# Replace words with low confidence with the placeholder symbol\n",
    "modified_text = \" \".join(word if conf >= confidence_threshold else placeholder_symbol for word, conf in zip(word_info['text'][1:], confidences))\n",
    "\n",
    "# Print the modified result\n",
    "print(\"Modified Text:\")\n",
    "print(modified_text)\n",
    "print(f\"Average Confidence: {confidence:.2f}%\")\n"
   ]
  },
  {
   "cell_type": "code",
   "execution_count": 14,
   "id": "ccb37969",
   "metadata": {},
   "outputs": [
    {
     "name": "stdout",
     "output_type": "stream",
     "text": [
      "Note: you may need to restart the kernel to use updated packages.\n"
     ]
    },
    {
     "name": "stderr",
     "output_type": "stream",
     "text": [
      "WARNING: Retrying (Retry(total=4, connect=None, read=None, redirect=None, status=None)) after connection broken by 'NewConnectionError('<pip._vendor.urllib3.connection.HTTPSConnection object at 0x0000024A3643D950>: Failed to establish a new connection: [Errno 11001] getaddrinfo failed')': /simple/ocropus/\n",
      "WARNING: Retrying (Retry(total=3, connect=None, read=None, redirect=None, status=None)) after connection broken by 'NewConnectionError('<pip._vendor.urllib3.connection.HTTPSConnection object at 0x0000024A39886C90>: Failed to establish a new connection: [Errno 11001] getaddrinfo failed')': /simple/ocropus/\n",
      "WARNING: Retrying (Retry(total=2, connect=None, read=None, redirect=None, status=None)) after connection broken by 'NewConnectionError('<pip._vendor.urllib3.connection.HTTPSConnection object at 0x0000024A3986F710>: Failed to establish a new connection: [Errno 11001] getaddrinfo failed')': /simple/ocropus/\n",
      "WARNING: Retrying (Retry(total=1, connect=None, read=None, redirect=None, status=None)) after connection broken by 'NewConnectionError('<pip._vendor.urllib3.connection.HTTPSConnection object at 0x0000024A3986D5D0>: Failed to establish a new connection: [Errno 11001] getaddrinfo failed')': /simple/ocropus/\n",
      "WARNING: Retrying (Retry(total=0, connect=None, read=None, redirect=None, status=None)) after connection broken by 'NewConnectionError('<pip._vendor.urllib3.connection.HTTPSConnection object at 0x0000024A39893CD0>: Failed to establish a new connection: [Errno 11001] getaddrinfo failed')': /simple/ocropus/\n",
      "ERROR: Could not find a version that satisfies the requirement ocropus (from versions: none)\n",
      "ERROR: No matching distribution found for ocropus\n"
     ]
    }
   ],
   "source": [
    "pip install ocropus"
   ]
  },
  {
   "cell_type": "code",
   "execution_count": 15,
   "id": "a52379bd",
   "metadata": {},
   "outputs": [
    {
     "ename": "ModuleNotFoundError",
     "evalue": "No module named 'ocrolib'",
     "output_type": "error",
     "traceback": [
      "\u001b[1;31m---------------------------------------------------------------------------\u001b[0m",
      "\u001b[1;31mModuleNotFoundError\u001b[0m                       Traceback (most recent call last)",
      "Cell \u001b[1;32mIn[15], line 1\u001b[0m\n\u001b[1;32m----> 1\u001b[0m \u001b[38;5;28;01mimport\u001b[39;00m \u001b[38;5;21;01mocrolib\u001b[39;00m\n\u001b[0;32m      2\u001b[0m \u001b[38;5;28;01mfrom\u001b[39;00m \u001b[38;5;21;01mPIL\u001b[39;00m \u001b[38;5;28;01mimport\u001b[39;00m Image\n\u001b[0;32m      4\u001b[0m \u001b[38;5;66;03m# Path to the image file you want to perform OCR on\u001b[39;00m\n",
      "\u001b[1;31mModuleNotFoundError\u001b[0m: No module named 'ocrolib'"
     ]
    }
   ],
   "source": [
    "import ocrolib\n",
    "from PIL import Image\n",
    "\n",
    "# Path to the image file you want to perform OCR on\n",
    "image_path = r'D:\\SEM 1 Mtech\\ML_Project\\img_n.png'\n",
    "\n",
    "# Open the image using PIL (Python Imaging Library)\n",
    "image = Image.open(image_path)\n",
    "\n",
    "# Convert the image to grayscale\n",
    "gray_image = image.convert('L')\n",
    "\n",
    "# Save the grayscale image (OCRopus requires input in PBM format)\n",
    "gray_image.save('path/to/your/grayscale_image.pbm')\n",
    "\n",
    "# Perform OCR using OCRopus OCR\n",
    "ocr_result = ocrolib.ocr_document('path/to/your/grayscale_image.pbm')\n",
    "\n",
    "# Extract recognized text\n",
    "recognized_text = ocr_result.text\n",
    "\n",
    "# Print the extracted text\n",
    "print(\"Extracted Text:\")\n",
    "print(recognized_text)\n"
   ]
  }
 ],
 "metadata": {
  "kernelspec": {
   "display_name": "Python 3 (ipykernel)",
   "language": "python",
   "name": "python3"
  },
  "language_info": {
   "codemirror_mode": {
    "name": "ipython",
    "version": 3
   },
   "file_extension": ".py",
   "mimetype": "text/x-python",
   "name": "python",
   "nbconvert_exporter": "python",
   "pygments_lexer": "ipython3",
   "version": "3.11.4"
  }
 },
 "nbformat": 4,
 "nbformat_minor": 5
}
